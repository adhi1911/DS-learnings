{
 "cells": [
  {
   "cell_type": "code",
   "execution_count": 1,
   "metadata": {},
   "outputs": [],
   "source": [
    "import pandas as pd\n",
    "\n",
    "\n",
    "\n"
   ]
  },
  {
   "cell_type": "code",
   "execution_count": 2,
   "metadata": {},
   "outputs": [
    {
     "name": "stdout",
     "output_type": "stream",
     "text": [
      "Original DataFrame:\n",
      "      A      B\n",
      "0   dog    one\n",
      "1   cat    one\n",
      "2   dog    two\n",
      "3  bird  three\n",
      "4   cat    two\n",
      "5  bird    two\n",
      "6   dog    one\n",
      "7   cat  three\n"
     ]
    }
   ],
   "source": [
    "df = pd.DataFrame({\n",
    "    'A': ['dog', 'cat', 'dog', 'bird', 'cat', 'bird', 'dog', 'cat'],\n",
    "    'B': ['one', 'one', 'two', 'three', 'two', 'two', 'one', 'three']\n",
    "})\n",
    "\n",
    "print(\"Original DataFrame:\")\n",
    "print(df)"
   ]
  },
  {
   "cell_type": "code",
   "execution_count": 4,
   "metadata": {},
   "outputs": [
    {
     "data": {
      "text/plain": [
       "A     B    \n",
       "dog   one      2\n",
       "bird  three    1\n",
       "      two      1\n",
       "cat   one      1\n",
       "      three    1\n",
       "      two      1\n",
       "dog   two      1\n",
       "Name: count, dtype: int64"
      ]
     },
     "execution_count": 4,
     "metadata": {},
     "output_type": "execute_result"
    }
   ],
   "source": [
    "df.value_counts()"
   ]
  },
  {
   "cell_type": "code",
   "execution_count": 3,
   "metadata": {},
   "outputs": [
    {
     "name": "stdout",
     "output_type": "stream",
     "text": [
      "\n",
      "DataFrame after get_dummies:\n",
      "   col_A_bird  col_A_cat  col_A_dog  col_B_one  col_B_three  col_B_two\n",
      "0       False      False       True       True        False      False\n",
      "1       False       True      False       True        False      False\n",
      "2       False      False       True      False        False       True\n",
      "3        True      False      False      False         True      False\n",
      "4       False       True      False      False        False       True\n",
      "5        True      False      False      False        False       True\n",
      "6       False      False       True       True        False      False\n",
      "7       False       True      False      False         True      False\n"
     ]
    }
   ],
   "source": [
    "# Convert categorical variable into dummy/indicator variables\n",
    "df_dummies = pd.get_dummies(df, prefix=['col_A', 'col_B'])\n",
    "\n",
    "print(\"\\nDataFrame after get_dummies:\")\n",
    "print(df_dummies)"
   ]
  }
 ],
 "metadata": {
  "kernelspec": {
   "display_name": "Python 3",
   "language": "python",
   "name": "python3"
  },
  "language_info": {
   "codemirror_mode": {
    "name": "ipython",
    "version": 3
   },
   "file_extension": ".py",
   "mimetype": "text/x-python",
   "name": "python",
   "nbconvert_exporter": "python",
   "pygments_lexer": "ipython3",
   "version": "3.11.3"
  }
 },
 "nbformat": 4,
 "nbformat_minor": 2
}
