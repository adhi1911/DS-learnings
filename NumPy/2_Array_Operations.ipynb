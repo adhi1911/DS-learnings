{
 "cells": [
  {
   "cell_type": "code",
   "execution_count": 1,
   "id": "3195ef48",
   "metadata": {
    "_cell_guid": "c9549ffe-362f-4f86-ab30-d0d47dba5866",
    "_uuid": "8f00bd4b-784e-47c3-927e-ec32f12e62fd",
    "collapsed": false,
    "execution": {
     "iopub.execute_input": "2024-04-28T17:29:58.388288Z",
     "iopub.status.busy": "2024-04-28T17:29:58.387725Z",
     "iopub.status.idle": "2024-04-28T17:29:58.400788Z",
     "shell.execute_reply": "2024-04-28T17:29:58.399953Z"
    },
    "jupyter": {
     "outputs_hidden": false
    },
    "papermill": {
     "duration": 0.033078,
     "end_time": "2024-04-28T17:29:58.403228",
     "exception": false,
     "start_time": "2024-04-28T17:29:58.370150",
     "status": "completed"
    },
    "tags": []
   },
   "outputs": [],
   "source": [
    "import numpy as np"
   ]
  },
  {
   "cell_type": "markdown",
   "id": "c70de0c2",
   "metadata": {
    "papermill": {
     "duration": 0.013851,
     "end_time": "2024-04-28T17:29:58.431641",
     "exception": false,
     "start_time": "2024-04-28T17:29:58.417790",
     "status": "completed"
    },
    "tags": []
   },
   "source": [
    "# Array Operations\n"
   ]
  },
  {
   "cell_type": "code",
   "execution_count": 2,
   "id": "eaaf2e5d",
   "metadata": {
    "execution": {
     "iopub.execute_input": "2024-04-28T17:29:58.462182Z",
     "iopub.status.busy": "2024-04-28T17:29:58.461435Z",
     "iopub.status.idle": "2024-04-28T17:29:58.469941Z",
     "shell.execute_reply": "2024-04-28T17:29:58.468541Z"
    },
    "papermill": {
     "duration": 0.026975,
     "end_time": "2024-04-28T17:29:58.472933",
     "exception": false,
     "start_time": "2024-04-28T17:29:58.445958",
     "status": "completed"
    },
    "tags": []
   },
   "outputs": [
    {
     "name": "stdout",
     "output_type": "stream",
     "text": [
      "a1 =  [[ 1  2  3  4]\n",
      " [ 5  6  7  8]\n",
      " [ 9 10 11 12]]\n",
      "a2 =  [[13 14 15 16]\n",
      " [17 18 19 20]\n",
      " [21 22 23 24]]\n"
     ]
    }
   ],
   "source": [
    "a1 = np.arange(1,13).reshape(3,4)\n",
    "a2 = np.arange(13,25).reshape(3,4)\n",
    "\n",
    "print('a1 = ',a1)\n",
    "print('a2 = ',a2)"
   ]
  },
  {
   "cell_type": "markdown",
   "id": "ba573b67",
   "metadata": {
    "papermill": {
     "duration": 0.013841,
     "end_time": "2024-04-28T17:29:58.502579",
     "exception": false,
     "start_time": "2024-04-28T17:29:58.488738",
     "status": "completed"
    },
    "tags": []
   },
   "source": [
    "## Scalar Operations"
   ]
  },
  {
   "cell_type": "code",
   "execution_count": 3,
   "id": "8dae6e18",
   "metadata": {
    "execution": {
     "iopub.execute_input": "2024-04-28T17:29:58.532707Z",
     "iopub.status.busy": "2024-04-28T17:29:58.531995Z",
     "iopub.status.idle": "2024-04-28T17:29:58.541324Z",
     "shell.execute_reply": "2024-04-28T17:29:58.540311Z"
    },
    "papermill": {
     "duration": 0.026783,
     "end_time": "2024-04-28T17:29:58.543439",
     "exception": false,
     "start_time": "2024-04-28T17:29:58.516656",
     "status": "completed"
    },
    "tags": []
   },
   "outputs": [
    {
     "data": {
      "text/plain": [
       "array([[ 4,  5,  6,  7],\n",
       "       [ 8,  9, 10, 11],\n",
       "       [12, 13, 14, 15]])"
      ]
     },
     "execution_count": 3,
     "metadata": {},
     "output_type": "execute_result"
    }
   ],
   "source": [
    "a1 +3"
   ]
  },
  {
   "cell_type": "code",
   "execution_count": 4,
   "id": "05c362c2",
   "metadata": {
    "execution": {
     "iopub.execute_input": "2024-04-28T17:29:58.577494Z",
     "iopub.status.busy": "2024-04-28T17:29:58.576476Z",
     "iopub.status.idle": "2024-04-28T17:29:58.582478Z",
     "shell.execute_reply": "2024-04-28T17:29:58.581694Z"
    },
    "papermill": {
     "duration": 0.02376,
     "end_time": "2024-04-28T17:29:58.584489",
     "exception": false,
     "start_time": "2024-04-28T17:29:58.560729",
     "status": "completed"
    },
    "tags": []
   },
   "outputs": [
    {
     "data": {
      "text/plain": [
       "array([[-1,  0,  1,  2],\n",
       "       [ 3,  4,  5,  6],\n",
       "       [ 7,  8,  9, 10]])"
      ]
     },
     "execution_count": 4,
     "metadata": {},
     "output_type": "execute_result"
    }
   ],
   "source": [
    "a1 -2"
   ]
  },
  {
   "cell_type": "code",
   "execution_count": 5,
   "id": "26dfadca",
   "metadata": {
    "execution": {
     "iopub.execute_input": "2024-04-28T17:29:58.615715Z",
     "iopub.status.busy": "2024-04-28T17:29:58.615015Z",
     "iopub.status.idle": "2024-04-28T17:29:58.621296Z",
     "shell.execute_reply": "2024-04-28T17:29:58.620294Z"
    },
    "papermill": {
     "duration": 0.024657,
     "end_time": "2024-04-28T17:29:58.623699",
     "exception": false,
     "start_time": "2024-04-28T17:29:58.599042",
     "status": "completed"
    },
    "tags": []
   },
   "outputs": [
    {
     "data": {
      "text/plain": [
       "array([[  1,   4,   9,  16],\n",
       "       [ 25,  36,  49,  64],\n",
       "       [ 81, 100, 121, 144]])"
      ]
     },
     "execution_count": 5,
     "metadata": {},
     "output_type": "execute_result"
    }
   ],
   "source": [
    "a1**2"
   ]
  },
  {
   "cell_type": "code",
   "execution_count": 6,
   "id": "77d6ff4a",
   "metadata": {
    "execution": {
     "iopub.execute_input": "2024-04-28T17:29:58.655523Z",
     "iopub.status.busy": "2024-04-28T17:29:58.655124Z",
     "iopub.status.idle": "2024-04-28T17:29:58.661302Z",
     "shell.execute_reply": "2024-04-28T17:29:58.660501Z"
    },
    "papermill": {
     "duration": 0.024656,
     "end_time": "2024-04-28T17:29:58.663528",
     "exception": false,
     "start_time": "2024-04-28T17:29:58.638872",
     "status": "completed"
    },
    "tags": []
   },
   "outputs": [
    {
     "data": {
      "text/plain": [
       "array([[3, 4, 5, 6],\n",
       "       [7, 8, 9, 0],\n",
       "       [1, 2, 3, 4]])"
      ]
     },
     "execution_count": 6,
     "metadata": {},
     "output_type": "execute_result"
    }
   ],
   "source": [
    "a2%10\n"
   ]
  },
  {
   "cell_type": "markdown",
   "id": "4a8eddf6",
   "metadata": {
    "papermill": {
     "duration": 0.014445,
     "end_time": "2024-04-28T17:29:58.692871",
     "exception": false,
     "start_time": "2024-04-28T17:29:58.678426",
     "status": "completed"
    },
    "tags": []
   },
   "source": [
    "## Relational Operations\n"
   ]
  },
  {
   "cell_type": "code",
   "execution_count": 7,
   "id": "87adf6dd",
   "metadata": {
    "execution": {
     "iopub.execute_input": "2024-04-28T17:29:58.724943Z",
     "iopub.status.busy": "2024-04-28T17:29:58.724170Z",
     "iopub.status.idle": "2024-04-28T17:29:58.730642Z",
     "shell.execute_reply": "2024-04-28T17:29:58.729483Z"
    },
    "papermill": {
     "duration": 0.025501,
     "end_time": "2024-04-28T17:29:58.733202",
     "exception": false,
     "start_time": "2024-04-28T17:29:58.707701",
     "status": "completed"
    },
    "tags": []
   },
   "outputs": [
    {
     "data": {
      "text/plain": [
       "array([[ True,  True,  True,  True],\n",
       "       [ True,  True,  True,  True],\n",
       "       [ True,  True,  True,  True]])"
      ]
     },
     "execution_count": 7,
     "metadata": {},
     "output_type": "execute_result"
    }
   ],
   "source": [
    "a2 > 0"
   ]
  },
  {
   "cell_type": "code",
   "execution_count": 8,
   "id": "4e4b66f4",
   "metadata": {
    "execution": {
     "iopub.execute_input": "2024-04-28T17:29:58.764926Z",
     "iopub.status.busy": "2024-04-28T17:29:58.764523Z",
     "iopub.status.idle": "2024-04-28T17:29:58.771343Z",
     "shell.execute_reply": "2024-04-28T17:29:58.770264Z"
    },
    "papermill": {
     "duration": 0.025449,
     "end_time": "2024-04-28T17:29:58.773790",
     "exception": false,
     "start_time": "2024-04-28T17:29:58.748341",
     "status": "completed"
    },
    "tags": []
   },
   "outputs": [
    {
     "data": {
      "text/plain": [
       "array([[False, False, False, False],\n",
       "       [ True,  True,  True,  True],\n",
       "       [ True,  True,  True,  True]])"
      ]
     },
     "execution_count": 8,
     "metadata": {},
     "output_type": "execute_result"
    }
   ],
   "source": [
    "a2 > 16"
   ]
  },
  {
   "cell_type": "code",
   "execution_count": 9,
   "id": "59dd5761",
   "metadata": {
    "execution": {
     "iopub.execute_input": "2024-04-28T17:29:58.806706Z",
     "iopub.status.busy": "2024-04-28T17:29:58.805960Z",
     "iopub.status.idle": "2024-04-28T17:29:58.812689Z",
     "shell.execute_reply": "2024-04-28T17:29:58.811761Z"
    },
    "papermill": {
     "duration": 0.025834,
     "end_time": "2024-04-28T17:29:58.814938",
     "exception": false,
     "start_time": "2024-04-28T17:29:58.789104",
     "status": "completed"
    },
    "tags": []
   },
   "outputs": [
    {
     "data": {
      "text/plain": [
       "array([[False, False, False, False],\n",
       "       [False, False, False, False],\n",
       "       [False, False,  True,  True]])"
      ]
     },
     "execution_count": 9,
     "metadata": {},
     "output_type": "execute_result"
    }
   ],
   "source": [
    "a1>10"
   ]
  },
  {
   "cell_type": "markdown",
   "id": "648ef9db",
   "metadata": {
    "papermill": {
     "duration": 0.015015,
     "end_time": "2024-04-28T17:29:58.846547",
     "exception": false,
     "start_time": "2024-04-28T17:29:58.831532",
     "status": "completed"
    },
    "tags": []
   },
   "source": [
    "## Vector Operations\n",
    "\n",
    "Operations in between matrices"
   ]
  },
  {
   "cell_type": "code",
   "execution_count": 10,
   "id": "c4f43747",
   "metadata": {
    "execution": {
     "iopub.execute_input": "2024-04-28T17:29:58.879326Z",
     "iopub.status.busy": "2024-04-28T17:29:58.878551Z",
     "iopub.status.idle": "2024-04-28T17:29:58.885436Z",
     "shell.execute_reply": "2024-04-28T17:29:58.884387Z"
    },
    "papermill": {
     "duration": 0.025725,
     "end_time": "2024-04-28T17:29:58.887552",
     "exception": false,
     "start_time": "2024-04-28T17:29:58.861827",
     "status": "completed"
    },
    "tags": []
   },
   "outputs": [
    {
     "data": {
      "text/plain": [
       "array([[14, 16, 18, 20],\n",
       "       [22, 24, 26, 28],\n",
       "       [30, 32, 34, 36]])"
      ]
     },
     "execution_count": 10,
     "metadata": {},
     "output_type": "execute_result"
    }
   ],
   "source": [
    "a3 = a1+a2\n",
    "a3"
   ]
  },
  {
   "cell_type": "code",
   "execution_count": 11,
   "id": "cbbf7ea2",
   "metadata": {
    "execution": {
     "iopub.execute_input": "2024-04-28T17:29:58.920701Z",
     "iopub.status.busy": "2024-04-28T17:29:58.919650Z",
     "iopub.status.idle": "2024-04-28T17:29:58.926966Z",
     "shell.execute_reply": "2024-04-28T17:29:58.925872Z"
    },
    "papermill": {
     "duration": 0.026448,
     "end_time": "2024-04-28T17:29:58.929383",
     "exception": false,
     "start_time": "2024-04-28T17:29:58.902935",
     "status": "completed"
    },
    "tags": []
   },
   "outputs": [
    {
     "data": {
      "text/plain": [
       "array([[ 13,  28,  45,  64],\n",
       "       [ 85, 108, 133, 160],\n",
       "       [189, 220, 253, 288]])"
      ]
     },
     "execution_count": 11,
     "metadata": {},
     "output_type": "execute_result"
    }
   ],
   "source": [
    "a4 = a1*a2\n",
    "a4"
   ]
  },
  {
   "cell_type": "code",
   "execution_count": 12,
   "id": "5a4d81c9",
   "metadata": {
    "execution": {
     "iopub.execute_input": "2024-04-28T17:29:58.963513Z",
     "iopub.status.busy": "2024-04-28T17:29:58.962117Z",
     "iopub.status.idle": "2024-04-28T17:29:58.970682Z",
     "shell.execute_reply": "2024-04-28T17:29:58.969438Z"
    },
    "papermill": {
     "duration": 0.027948,
     "end_time": "2024-04-28T17:29:58.973000",
     "exception": false,
     "start_time": "2024-04-28T17:29:58.945052",
     "status": "completed"
    },
    "tags": []
   },
   "outputs": [
    {
     "data": {
      "text/plain": [
       "array([[0.08, 0.14, 0.2 , 0.25],\n",
       "       [0.29, 0.33, 0.37, 0.4 ],\n",
       "       [0.43, 0.45, 0.48, 0.5 ]])"
      ]
     },
     "execution_count": 12,
     "metadata": {},
     "output_type": "execute_result"
    }
   ],
   "source": [
    "a5 = a1/a2\n",
    "a5.round(2)"
   ]
  },
  {
   "cell_type": "markdown",
   "id": "4c4bf78b",
   "metadata": {
    "papermill": {
     "duration": 0.015446,
     "end_time": "2024-04-28T17:29:59.004183",
     "exception": false,
     "start_time": "2024-04-28T17:29:58.988737",
     "status": "completed"
    },
    "tags": []
   },
   "source": [
    "## Array Functions"
   ]
  },
  {
   "cell_type": "code",
   "execution_count": 13,
   "id": "d934278d",
   "metadata": {
    "execution": {
     "iopub.execute_input": "2024-04-28T17:29:59.037518Z",
     "iopub.status.busy": "2024-04-28T17:29:59.037153Z",
     "iopub.status.idle": "2024-04-28T17:29:59.045280Z",
     "shell.execute_reply": "2024-04-28T17:29:59.044231Z"
    },
    "papermill": {
     "duration": 0.027871,
     "end_time": "2024-04-28T17:29:59.047703",
     "exception": false,
     "start_time": "2024-04-28T17:29:59.019832",
     "status": "completed"
    },
    "tags": []
   },
   "outputs": [
    {
     "data": {
      "text/plain": [
       "array([[98.91, 69.84, 45.05],\n",
       "       [53.24, 43.6 , 45.6 ],\n",
       "       [42.22, 50.51, 92.66]])"
      ]
     },
     "execution_count": 13,
     "metadata": {},
     "output_type": "execute_result"
    }
   ],
   "source": [
    "a6 = np.random.random((3,3))\n",
    "a6 = a6*100\n",
    "a6 = a6.round(2)\n",
    "a6"
   ]
  },
  {
   "cell_type": "code",
   "execution_count": 14,
   "id": "e09dcd21",
   "metadata": {
    "execution": {
     "iopub.execute_input": "2024-04-28T17:29:59.081203Z",
     "iopub.status.busy": "2024-04-28T17:29:59.080794Z",
     "iopub.status.idle": "2024-04-28T17:29:59.088197Z",
     "shell.execute_reply": "2024-04-28T17:29:59.087173Z"
    },
    "papermill": {
     "duration": 0.026856,
     "end_time": "2024-04-28T17:29:59.090659",
     "exception": false,
     "start_time": "2024-04-28T17:29:59.063803",
     "status": "completed"
    },
    "tags": []
   },
   "outputs": [
    {
     "data": {
      "text/plain": [
       "(98.91, 42.22, 541.63, 6509033398593838.0)"
      ]
     },
     "execution_count": 14,
     "metadata": {},
     "output_type": "execute_result"
    }
   ],
   "source": [
    "np.max(a6) , np.min(a6), np.sum(a6) , np.prod(a6)\n"
   ]
  },
  {
   "cell_type": "markdown",
   "id": "bc7480df",
   "metadata": {
    "papermill": {
     "duration": 0.0156,
     "end_time": "2024-04-28T17:29:59.122368",
     "exception": false,
     "start_time": "2024-04-28T17:29:59.106768",
     "status": "completed"
    },
    "tags": []
   },
   "source": [
    "If we want to find these row/column viz; use axis"
   ]
  },
  {
   "cell_type": "code",
   "execution_count": 15,
   "id": "359b8760",
   "metadata": {
    "execution": {
     "iopub.execute_input": "2024-04-28T17:29:59.155973Z",
     "iopub.status.busy": "2024-04-28T17:29:59.155576Z",
     "iopub.status.idle": "2024-04-28T17:29:59.161425Z",
     "shell.execute_reply": "2024-04-28T17:29:59.160312Z"
    },
    "papermill": {
     "duration": 0.026194,
     "end_time": "2024-04-28T17:29:59.164599",
     "exception": false,
     "start_time": "2024-04-28T17:29:59.138405",
     "status": "completed"
    },
    "tags": []
   },
   "outputs": [
    {
     "name": "stdout",
     "output_type": "stream",
     "text": [
      "Maximum of every row :  [98.91 53.24 92.66]\n"
     ]
    }
   ],
   "source": [
    "print('Maximum of every row : ',np.max(a6 , axis=1))"
   ]
  },
  {
   "cell_type": "code",
   "execution_count": 16,
   "id": "5c38aeb0",
   "metadata": {
    "execution": {
     "iopub.execute_input": "2024-04-28T17:29:59.256245Z",
     "iopub.status.busy": "2024-04-28T17:29:59.255841Z",
     "iopub.status.idle": "2024-04-28T17:29:59.262081Z",
     "shell.execute_reply": "2024-04-28T17:29:59.260794Z"
    },
    "papermill": {
     "duration": 0.083641,
     "end_time": "2024-04-28T17:29:59.264506",
     "exception": false,
     "start_time": "2024-04-28T17:29:59.180865",
     "status": "completed"
    },
    "tags": []
   },
   "outputs": [
    {
     "name": "stdout",
     "output_type": "stream",
     "text": [
      "Maximum of every column :  [98.91 69.84 92.66]\n"
     ]
    }
   ],
   "source": [
    "print('Maximum of every column : ',np.max(a6 , axis=0))"
   ]
  },
  {
   "cell_type": "code",
   "execution_count": 17,
   "id": "316e120e",
   "metadata": {
    "execution": {
     "iopub.execute_input": "2024-04-28T17:29:59.298455Z",
     "iopub.status.busy": "2024-04-28T17:29:59.298100Z",
     "iopub.status.idle": "2024-04-28T17:29:59.304154Z",
     "shell.execute_reply": "2024-04-28T17:29:59.302925Z"
    },
    "papermill": {
     "duration": 0.026154,
     "end_time": "2024-04-28T17:29:59.306821",
     "exception": false,
     "start_time": "2024-04-28T17:29:59.280667",
     "status": "completed"
    },
    "tags": []
   },
   "outputs": [
    {
     "name": "stdout",
     "output_type": "stream",
     "text": [
      "Sum of every column:  [194.37 163.95 183.31]\n"
     ]
    }
   ],
   "source": [
    "print('Sum of every column: ',np.sum(a6 , axis =0))"
   ]
  },
  {
   "cell_type": "code",
   "execution_count": 18,
   "id": "0c6f6c19",
   "metadata": {
    "execution": {
     "iopub.execute_input": "2024-04-28T17:29:59.341708Z",
     "iopub.status.busy": "2024-04-28T17:29:59.341305Z",
     "iopub.status.idle": "2024-04-28T17:29:59.347153Z",
     "shell.execute_reply": "2024-04-28T17:29:59.345958Z"
    },
    "papermill": {
     "duration": 0.026308,
     "end_time": "2024-04-28T17:29:59.349579",
     "exception": false,
     "start_time": "2024-04-28T17:29:59.323271",
     "status": "completed"
    },
    "tags": []
   },
   "outputs": [
    {
     "name": "stdout",
     "output_type": "stream",
     "text": [
      "Product of every row:  [311199.74172  105849.6384   197600.433652]\n"
     ]
    }
   ],
   "source": [
    "print('Product of every row: ',np.prod(a6 , axis = 1))"
   ]
  },
  {
   "cell_type": "markdown",
   "id": "d7b4ec10",
   "metadata": {
    "papermill": {
     "duration": 0.016206,
     "end_time": "2024-04-28T17:29:59.382905",
     "exception": false,
     "start_time": "2024-04-28T17:29:59.366699",
     "status": "completed"
    },
    "tags": []
   },
   "source": [
    "statistical functions are also available"
   ]
  },
  {
   "cell_type": "code",
   "execution_count": 19,
   "id": "1709a5b5",
   "metadata": {
    "execution": {
     "iopub.execute_input": "2024-04-28T17:29:59.417723Z",
     "iopub.status.busy": "2024-04-28T17:29:59.417356Z",
     "iopub.status.idle": "2024-04-28T17:29:59.427008Z",
     "shell.execute_reply": "2024-04-28T17:29:59.425848Z"
    },
    "papermill": {
     "duration": 0.030204,
     "end_time": "2024-04-28T17:29:59.429672",
     "exception": false,
     "start_time": "2024-04-28T17:29:59.399468",
     "status": "completed"
    },
    "tags": []
   },
   "outputs": [
    {
     "name": "stdout",
     "output_type": "stream",
     "text": [
      "mean:  60.18\n",
      "mediean:  50.51\n",
      "std:  20.63\n",
      "var:  425.43\n"
     ]
    }
   ],
   "source": [
    "# mean value of whole matrix\n",
    "print('mean: ',np.mean(a6).round(2))\n",
    "print('mediean: ',np.median(a6))\n",
    "print('std: ',np.std(a6).round(2))\n",
    "print('var: ',np.var(a6).round(2))"
   ]
  },
  {
   "cell_type": "code",
   "execution_count": 20,
   "id": "0efd614c",
   "metadata": {
    "execution": {
     "iopub.execute_input": "2024-04-28T17:29:59.464971Z",
     "iopub.status.busy": "2024-04-28T17:29:59.464588Z",
     "iopub.status.idle": "2024-04-28T17:29:59.472203Z",
     "shell.execute_reply": "2024-04-28T17:29:59.471029Z"
    },
    "papermill": {
     "duration": 0.029204,
     "end_time": "2024-04-28T17:29:59.475542",
     "exception": false,
     "start_time": "2024-04-28T17:29:59.446338",
     "status": "completed"
    },
    "tags": []
   },
   "outputs": [
    {
     "name": "stdout",
     "output_type": "stream",
     "text": [
      "mean:  [64.79       54.65       61.10333333]\n",
      "median:  [53.24 50.51 45.6 ]\n",
      "std:  [24.54235658 11.105227   22.31506268]\n",
      "var:  [602.32726667 123.32606667 497.96202222]\n"
     ]
    }
   ],
   "source": [
    "#for every column\n",
    "print('mean: ',a6.mean(axis=0))\n",
    "print('median: ',np.median(a6,axis=0))\n",
    "print('std: ',np.std(a6,axis=0))\n",
    "print('var: ',a6.var(axis=0))"
   ]
  },
  {
   "cell_type": "code",
   "execution_count": 21,
   "id": "3806c84a",
   "metadata": {
    "execution": {
     "iopub.execute_input": "2024-04-28T17:29:59.511776Z",
     "iopub.status.busy": "2024-04-28T17:29:59.511412Z",
     "iopub.status.idle": "2024-04-28T17:29:59.516119Z",
     "shell.execute_reply": "2024-04-28T17:29:59.514862Z"
    },
    "papermill": {
     "duration": 0.025328,
     "end_time": "2024-04-28T17:29:59.518461",
     "exception": false,
     "start_time": "2024-04-28T17:29:59.493133",
     "status": "completed"
    },
    "tags": []
   },
   "outputs": [],
   "source": [
    "#similarly we can use trigonometric functions"
   ]
  },
  {
   "cell_type": "markdown",
   "id": "3d8b8e2e",
   "metadata": {
    "papermill": {
     "duration": 0.016629,
     "end_time": "2024-04-28T17:29:59.552379",
     "exception": false,
     "start_time": "2024-04-28T17:29:59.535750",
     "status": "completed"
    },
    "tags": []
   },
   "source": [
    "## Dotproduct \n"
   ]
  },
  {
   "cell_type": "code",
   "execution_count": 22,
   "id": "7d7380f5",
   "metadata": {
    "execution": {
     "iopub.execute_input": "2024-04-28T17:29:59.588291Z",
     "iopub.status.busy": "2024-04-28T17:29:59.587845Z",
     "iopub.status.idle": "2024-04-28T17:29:59.597623Z",
     "shell.execute_reply": "2024-04-28T17:29:59.596526Z"
    },
    "papermill": {
     "duration": 0.030412,
     "end_time": "2024-04-28T17:29:59.599805",
     "exception": false,
     "start_time": "2024-04-28T17:29:59.569393",
     "status": "completed"
    },
    "tags": []
   },
   "outputs": [
    {
     "data": {
      "text/plain": [
       "array([[3419.16, 3632.96, 3846.76, 4060.56],\n",
       "       [2390.92, 2533.36, 2675.8 , 2818.24],\n",
       "       [3353.39, 3538.78, 3724.17, 3909.56]])"
      ]
     },
     "execution_count": 22,
     "metadata": {},
     "output_type": "execute_result"
    }
   ],
   "source": [
    "np.dot(a6,a2)  #shape should match"
   ]
  },
  {
   "cell_type": "code",
   "execution_count": 23,
   "id": "094942b0",
   "metadata": {
    "execution": {
     "iopub.execute_input": "2024-04-28T17:29:59.635379Z",
     "iopub.status.busy": "2024-04-28T17:29:59.634969Z",
     "iopub.status.idle": "2024-04-28T17:29:59.639457Z",
     "shell.execute_reply": "2024-04-28T17:29:59.638612Z"
    },
    "papermill": {
     "duration": 0.024878,
     "end_time": "2024-04-28T17:29:59.641491",
     "exception": false,
     "start_time": "2024-04-28T17:29:59.616613",
     "status": "completed"
    },
    "tags": []
   },
   "outputs": [],
   "source": [
    "# Similarly other functions such as .round() , .floor() , .ceil() can be used"
   ]
  },
  {
   "cell_type": "markdown",
   "id": "8f1c86c2",
   "metadata": {
    "papermill": {
     "duration": 0.016898,
     "end_time": "2024-04-28T17:29:59.675578",
     "exception": false,
     "start_time": "2024-04-28T17:29:59.658680",
     "status": "completed"
    },
    "tags": []
   },
   "source": [
    "### Indexing and Slicing is used for accessing elements"
   ]
  },
  {
   "cell_type": "markdown",
   "id": "30d4197c",
   "metadata": {
    "papermill": {
     "duration": 0.016737,
     "end_time": "2024-04-28T17:29:59.709336",
     "exception": false,
     "start_time": "2024-04-28T17:29:59.692599",
     "status": "completed"
    },
    "tags": []
   },
   "source": [
    "Slicing operation same as lists in python"
   ]
  },
  {
   "cell_type": "code",
   "execution_count": 24,
   "id": "2aca7ac9",
   "metadata": {
    "execution": {
     "iopub.execute_input": "2024-04-28T17:29:59.745122Z",
     "iopub.status.busy": "2024-04-28T17:29:59.744675Z",
     "iopub.status.idle": "2024-04-28T17:29:59.751467Z",
     "shell.execute_reply": "2024-04-28T17:29:59.750371Z"
    },
    "papermill": {
     "duration": 0.027315,
     "end_time": "2024-04-28T17:29:59.753701",
     "exception": false,
     "start_time": "2024-04-28T17:29:59.726386",
     "status": "completed"
    },
    "tags": []
   },
   "outputs": [
    {
     "data": {
      "text/plain": [
       "array([0, 1, 2, 3, 4, 5, 6, 7, 8, 9])"
      ]
     },
     "execution_count": 24,
     "metadata": {},
     "output_type": "execute_result"
    }
   ],
   "source": [
    "#slicing on 1d array\n",
    "i1 = np.arange(10)\n",
    "i1"
   ]
  },
  {
   "cell_type": "code",
   "execution_count": 25,
   "id": "06ce1aab",
   "metadata": {
    "execution": {
     "iopub.execute_input": "2024-04-28T17:29:59.789685Z",
     "iopub.status.busy": "2024-04-28T17:29:59.789280Z",
     "iopub.status.idle": "2024-04-28T17:29:59.796373Z",
     "shell.execute_reply": "2024-04-28T17:29:59.795251Z"
    },
    "papermill": {
     "duration": 0.027918,
     "end_time": "2024-04-28T17:29:59.798775",
     "exception": false,
     "start_time": "2024-04-28T17:29:59.770857",
     "status": "completed"
    },
    "tags": []
   },
   "outputs": [
    {
     "data": {
      "text/plain": [
       "array([3, 4, 5, 6])"
      ]
     },
     "execution_count": 25,
     "metadata": {},
     "output_type": "execute_result"
    }
   ],
   "source": [
    "i1[3:7]"
   ]
  },
  {
   "cell_type": "code",
   "execution_count": 26,
   "id": "d7de2dc0",
   "metadata": {
    "execution": {
     "iopub.execute_input": "2024-04-28T17:29:59.835669Z",
     "iopub.status.busy": "2024-04-28T17:29:59.834946Z",
     "iopub.status.idle": "2024-04-28T17:29:59.842049Z",
     "shell.execute_reply": "2024-04-28T17:29:59.840902Z"
    },
    "papermill": {
     "duration": 0.028591,
     "end_time": "2024-04-28T17:29:59.844640",
     "exception": false,
     "start_time": "2024-04-28T17:29:59.816049",
     "status": "completed"
    },
    "tags": []
   },
   "outputs": [
    {
     "data": {
      "text/plain": [
       "array([0, 2, 4])"
      ]
     },
     "execution_count": 26,
     "metadata": {},
     "output_type": "execute_result"
    }
   ],
   "source": [
    "i1[:6:2]"
   ]
  },
  {
   "cell_type": "code",
   "execution_count": 27,
   "id": "aae76739",
   "metadata": {
    "execution": {
     "iopub.execute_input": "2024-04-28T17:29:59.882702Z",
     "iopub.status.busy": "2024-04-28T17:29:59.882342Z",
     "iopub.status.idle": "2024-04-28T17:29:59.888969Z",
     "shell.execute_reply": "2024-04-28T17:29:59.887931Z"
    },
    "papermill": {
     "duration": 0.028905,
     "end_time": "2024-04-28T17:29:59.891496",
     "exception": false,
     "start_time": "2024-04-28T17:29:59.862591",
     "status": "completed"
    },
    "tags": []
   },
   "outputs": [
    {
     "data": {
      "text/plain": [
       "array([9, 8, 7, 6, 5, 4, 3, 2, 1, 0])"
      ]
     },
     "execution_count": 27,
     "metadata": {},
     "output_type": "execute_result"
    }
   ],
   "source": [
    "i1[::-1]"
   ]
  },
  {
   "cell_type": "markdown",
   "id": "1077a917",
   "metadata": {
    "papermill": {
     "duration": 0.017173,
     "end_time": "2024-04-28T17:29:59.926379",
     "exception": false,
     "start_time": "2024-04-28T17:29:59.909206",
     "status": "completed"
    },
    "tags": []
   },
   "source": [
    "Indexing on 2d and 3d arrays. Similary applied to more dimensions"
   ]
  },
  {
   "cell_type": "code",
   "execution_count": 28,
   "id": "ddadcd28",
   "metadata": {
    "execution": {
     "iopub.execute_input": "2024-04-28T17:29:59.963295Z",
     "iopub.status.busy": "2024-04-28T17:29:59.962901Z",
     "iopub.status.idle": "2024-04-28T17:29:59.971557Z",
     "shell.execute_reply": "2024-04-28T17:29:59.970194Z"
    },
    "papermill": {
     "duration": 0.029772,
     "end_time": "2024-04-28T17:29:59.973817",
     "exception": false,
     "start_time": "2024-04-28T17:29:59.944045",
     "status": "completed"
    },
    "tags": []
   },
   "outputs": [
    {
     "data": {
      "text/plain": [
       "array([[ 0,  1,  2,  3],\n",
       "       [ 4,  5,  6,  7],\n",
       "       [ 8,  9, 10, 11]])"
      ]
     },
     "execution_count": 28,
     "metadata": {},
     "output_type": "execute_result"
    }
   ],
   "source": [
    "#indexing\n",
    "i2 = np.array([[ 0, 1, 2, 3],\n",
    " [ 4, 5, 6, 7],\n",
    " [ 8, 9, 10, 11]])\n",
    "i2"
   ]
  },
  {
   "cell_type": "code",
   "execution_count": 29,
   "id": "1651cd92",
   "metadata": {
    "execution": {
     "iopub.execute_input": "2024-04-28T17:30:00.010821Z",
     "iopub.status.busy": "2024-04-28T17:30:00.010459Z",
     "iopub.status.idle": "2024-04-28T17:30:00.017986Z",
     "shell.execute_reply": "2024-04-28T17:30:00.016615Z"
    },
    "papermill": {
     "duration": 0.028902,
     "end_time": "2024-04-28T17:30:00.020384",
     "exception": false,
     "start_time": "2024-04-28T17:29:59.991482",
     "status": "completed"
    },
    "tags": []
   },
   "outputs": [
    {
     "data": {
      "text/plain": [
       "9"
      ]
     },
     "execution_count": 29,
     "metadata": {},
     "output_type": "execute_result"
    }
   ],
   "source": [
    "i2[2,1]   #this also start from zero so a_3,2 = i2[2,1]\n",
    "          # that is 2 = third row and 1 = second column"
   ]
  },
  {
   "cell_type": "code",
   "execution_count": 30,
   "id": "d7885e2f",
   "metadata": {
    "execution": {
     "iopub.execute_input": "2024-04-28T17:30:00.058263Z",
     "iopub.status.busy": "2024-04-28T17:30:00.057825Z",
     "iopub.status.idle": "2024-04-28T17:30:00.065494Z",
     "shell.execute_reply": "2024-04-28T17:30:00.064333Z"
    },
    "papermill": {
     "duration": 0.029411,
     "end_time": "2024-04-28T17:30:00.067801",
     "exception": false,
     "start_time": "2024-04-28T17:30:00.038390",
     "status": "completed"
    },
    "tags": []
   },
   "outputs": [
    {
     "data": {
      "text/plain": [
       "array([[[0, 1],\n",
       "        [2, 3]],\n",
       "\n",
       "       [[4, 5],\n",
       "        [6, 7]]])"
      ]
     },
     "execution_count": 30,
     "metadata": {},
     "output_type": "execute_result"
    }
   ],
   "source": [
    "#3d tensor\n",
    "i3 = np.array([[[0, 1],\n",
    " [2, 3]],\n",
    " [[4, 5],\n",
    " [6, 7]]])\n",
    "i3"
   ]
  },
  {
   "cell_type": "code",
   "execution_count": 31,
   "id": "17e3c24e",
   "metadata": {
    "execution": {
     "iopub.execute_input": "2024-04-28T17:30:00.106426Z",
     "iopub.status.busy": "2024-04-28T17:30:00.105303Z",
     "iopub.status.idle": "2024-04-28T17:30:00.111612Z",
     "shell.execute_reply": "2024-04-28T17:30:00.110806Z"
    },
    "papermill": {
     "duration": 0.027928,
     "end_time": "2024-04-28T17:30:00.113708",
     "exception": false,
     "start_time": "2024-04-28T17:30:00.085780",
     "status": "completed"
    },
    "tags": []
   },
   "outputs": [
    {
     "data": {
      "text/plain": [
       "5"
      ]
     },
     "execution_count": 31,
     "metadata": {},
     "output_type": "execute_result"
    }
   ],
   "source": [
    "i3[1,0,1]"
   ]
  },
  {
   "cell_type": "markdown",
   "id": "3264b5ea",
   "metadata": {
    "papermill": {
     "duration": 0.017866,
     "end_time": "2024-04-28T17:30:00.149819",
     "exception": false,
     "start_time": "2024-04-28T17:30:00.131953",
     "status": "completed"
    },
    "tags": []
   },
   "source": [
    "Slicing on 2d and 3d arrays"
   ]
  },
  {
   "cell_type": "code",
   "execution_count": 32,
   "id": "96b76820",
   "metadata": {
    "execution": {
     "iopub.execute_input": "2024-04-28T17:30:00.188782Z",
     "iopub.status.busy": "2024-04-28T17:30:00.187512Z",
     "iopub.status.idle": "2024-04-28T17:30:00.194236Z",
     "shell.execute_reply": "2024-04-28T17:30:00.193177Z"
    },
    "papermill": {
     "duration": 0.028621,
     "end_time": "2024-04-28T17:30:00.196718",
     "exception": false,
     "start_time": "2024-04-28T17:30:00.168097",
     "status": "completed"
    },
    "tags": []
   },
   "outputs": [
    {
     "data": {
      "text/plain": [
       "array([[ 0,  1,  2,  3],\n",
       "       [ 4,  5,  6,  7],\n",
       "       [ 8,  9, 10, 11]])"
      ]
     },
     "execution_count": 32,
     "metadata": {},
     "output_type": "execute_result"
    }
   ],
   "source": [
    "i2"
   ]
  },
  {
   "cell_type": "code",
   "execution_count": 33,
   "id": "28c8bd52",
   "metadata": {
    "execution": {
     "iopub.execute_input": "2024-04-28T17:30:00.235421Z",
     "iopub.status.busy": "2024-04-28T17:30:00.235032Z",
     "iopub.status.idle": "2024-04-28T17:30:00.241987Z",
     "shell.execute_reply": "2024-04-28T17:30:00.240828Z"
    },
    "papermill": {
     "duration": 0.029468,
     "end_time": "2024-04-28T17:30:00.244671",
     "exception": false,
     "start_time": "2024-04-28T17:30:00.215203",
     "status": "completed"
    },
    "tags": []
   },
   "outputs": [
    {
     "data": {
      "text/plain": [
       "array([[ 6,  7],\n",
       "       [10, 11]])"
      ]
     },
     "execution_count": 33,
     "metadata": {},
     "output_type": "execute_result"
    }
   ],
   "source": [
    "# [ slice columns , slice rows]\n",
    "# lets say we want 6,7 and 10 ,11 from i2\n",
    "# so we slice 2nd and 3rd columns that is 1:3\n",
    "# then we need last two rows that is 2:4 or 2:\n",
    "\n",
    "i2[1:3 , 2:]"
   ]
  },
  {
   "cell_type": "code",
   "execution_count": 34,
   "id": "ae6af202",
   "metadata": {
    "execution": {
     "iopub.execute_input": "2024-04-28T17:30:00.283781Z",
     "iopub.status.busy": "2024-04-28T17:30:00.283390Z",
     "iopub.status.idle": "2024-04-28T17:30:00.290305Z",
     "shell.execute_reply": "2024-04-28T17:30:00.289223Z"
    },
    "papermill": {
     "duration": 0.029023,
     "end_time": "2024-04-28T17:30:00.292601",
     "exception": false,
     "start_time": "2024-04-28T17:30:00.263578",
     "status": "completed"
    },
    "tags": []
   },
   "outputs": [
    {
     "data": {
      "text/plain": [
       "array([[ 0,  3],\n",
       "       [ 8, 11]])"
      ]
     },
     "execution_count": 34,
     "metadata": {},
     "output_type": "execute_result"
    }
   ],
   "source": [
    "i2 [::2, ::3 ]"
   ]
  },
  {
   "cell_type": "code",
   "execution_count": 35,
   "id": "2dcd7390",
   "metadata": {
    "execution": {
     "iopub.execute_input": "2024-04-28T17:30:00.331819Z",
     "iopub.status.busy": "2024-04-28T17:30:00.331448Z",
     "iopub.status.idle": "2024-04-28T17:30:00.340645Z",
     "shell.execute_reply": "2024-04-28T17:30:00.339556Z"
    },
    "papermill": {
     "duration": 0.031729,
     "end_time": "2024-04-28T17:30:00.343016",
     "exception": false,
     "start_time": "2024-04-28T17:30:00.311287",
     "status": "completed"
    },
    "tags": []
   },
   "outputs": [
    {
     "data": {
      "text/plain": [
       "array([[[ 0,  1,  2],\n",
       "        [ 3,  4,  5],\n",
       "        [ 6,  7,  8]],\n",
       "\n",
       "       [[ 9, 10, 11],\n",
       "        [12, 13, 14],\n",
       "        [15, 16, 17]],\n",
       "\n",
       "       [[18, 19, 20],\n",
       "        [21, 22, 23],\n",
       "        [24, 25, 26]]])"
      ]
     },
     "execution_count": 35,
     "metadata": {},
     "output_type": "execute_result"
    }
   ],
   "source": [
    "# for 3d \n",
    "# [ith matrix , ith row , ith column]\n",
    "\n",
    "i4 = np.array([[[ 0, 1, 2],\n",
    " [ 3, 4, 5],\n",
    " [ 6, 7, 8]],\n",
    " [[ 9, 10, 11],\n",
    " [12, 13, 14],\n",
    " [15, 16, 17]],\n",
    " [[18, 19, 20],\n",
    " [21, 22, 23],\n",
    " [24, 25, 26]]])\n",
    "\n",
    "i4"
   ]
  },
  {
   "cell_type": "code",
   "execution_count": 36,
   "id": "97daec48",
   "metadata": {
    "execution": {
     "iopub.execute_input": "2024-04-28T17:30:00.384264Z",
     "iopub.status.busy": "2024-04-28T17:30:00.383857Z",
     "iopub.status.idle": "2024-04-28T17:30:00.391120Z",
     "shell.execute_reply": "2024-04-28T17:30:00.389928Z"
    },
    "papermill": {
     "duration": 0.030743,
     "end_time": "2024-04-28T17:30:00.393346",
     "exception": false,
     "start_time": "2024-04-28T17:30:00.362603",
     "status": "completed"
    },
    "tags": []
   },
   "outputs": [
    {
     "data": {
      "text/plain": [
       "12"
      ]
     },
     "execution_count": 36,
     "metadata": {},
     "output_type": "execute_result"
    }
   ],
   "source": [
    "i4[1,1,0] # mid matrix , second row , first columns"
   ]
  },
  {
   "cell_type": "code",
   "execution_count": 37,
   "id": "b78090f4",
   "metadata": {
    "execution": {
     "iopub.execute_input": "2024-04-28T17:30:00.434354Z",
     "iopub.status.busy": "2024-04-28T17:30:00.432920Z",
     "iopub.status.idle": "2024-04-28T17:30:00.440316Z",
     "shell.execute_reply": "2024-04-28T17:30:00.439357Z"
    },
    "papermill": {
     "duration": 0.029991,
     "end_time": "2024-04-28T17:30:00.442531",
     "exception": false,
     "start_time": "2024-04-28T17:30:00.412540",
     "status": "completed"
    },
    "tags": []
   },
   "outputs": [
    {
     "data": {
      "text/plain": [
       "array([[18, 19, 20],\n",
       "       [21, 22, 23],\n",
       "       [24, 25, 26]])"
      ]
     },
     "execution_count": 37,
     "metadata": {},
     "output_type": "execute_result"
    }
   ],
   "source": [
    "i4[2]"
   ]
  },
  {
   "cell_type": "code",
   "execution_count": null,
   "id": "4ba86cd7",
   "metadata": {
    "papermill": {
     "duration": 0.018706,
     "end_time": "2024-04-28T17:30:00.480379",
     "exception": false,
     "start_time": "2024-04-28T17:30:00.461673",
     "status": "completed"
    },
    "tags": []
   },
   "outputs": [],
   "source": []
  }
 ],
 "metadata": {
  "kaggle": {
   "accelerator": "none",
   "dataSources": [],
   "dockerImageVersionId": 30698,
   "isGpuEnabled": false,
   "isInternetEnabled": true,
   "language": "python",
   "sourceType": "notebook"
  },
  "kernelspec": {
   "display_name": "Python 3",
   "language": "python",
   "name": "python3"
  },
  "language_info": {
   "codemirror_mode": {
    "name": "ipython",
    "version": 3
   },
   "file_extension": ".py",
   "mimetype": "text/x-python",
   "name": "python",
   "nbconvert_exporter": "python",
   "pygments_lexer": "ipython3",
   "version": "3.10.13"
  },
  "papermill": {
   "default_parameters": {},
   "duration": 5.45062,
   "end_time": "2024-04-28T17:30:00.820404",
   "environment_variables": {},
   "exception": null,
   "input_path": "__notebook__.ipynb",
   "output_path": "__notebook__.ipynb",
   "parameters": {},
   "start_time": "2024-04-28T17:29:55.369784",
   "version": "2.5.0"
  }
 },
 "nbformat": 4,
 "nbformat_minor": 5
}
