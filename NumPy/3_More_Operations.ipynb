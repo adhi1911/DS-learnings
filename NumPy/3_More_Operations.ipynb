{
 "cells": [
  {
   "cell_type": "code",
   "execution_count": 1,
   "id": "55a024da",
   "metadata": {
    "_execution_state": "idle",
    "_uuid": "051d70d956493feee0c6d64651c6a088724dca2a",
    "execution": {
     "iopub.execute_input": "2024-05-22T15:17:22.139667Z",
     "iopub.status.busy": "2024-05-22T15:17:22.138846Z",
     "iopub.status.idle": "2024-05-22T15:17:22.151209Z",
     "shell.execute_reply": "2024-05-22T15:17:22.150053Z"
    },
    "papermill": {
     "duration": 0.025465,
     "end_time": "2024-05-22T15:17:22.154023",
     "exception": false,
     "start_time": "2024-05-22T15:17:22.128558",
     "status": "completed"
    },
    "tags": []
   },
   "outputs": [],
   "source": [
    "import numpy as np"
   ]
  },
  {
   "cell_type": "markdown",
   "id": "6ab86f40",
   "metadata": {
    "papermill": {
     "duration": 0.00742,
     "end_time": "2024-05-22T15:17:22.169306",
     "exception": false,
     "start_time": "2024-05-22T15:17:22.161886",
     "status": "completed"
    },
    "tags": []
   },
   "source": [
    "### Iterating\n"
   ]
  },
  {
   "cell_type": "code",
   "execution_count": 2,
   "id": "96a57d5c",
   "metadata": {
    "execution": {
     "iopub.execute_input": "2024-05-22T15:17:22.186938Z",
     "iopub.status.busy": "2024-05-22T15:17:22.186523Z",
     "iopub.status.idle": "2024-05-22T15:17:22.191708Z",
     "shell.execute_reply": "2024-05-22T15:17:22.190827Z"
    },
    "papermill": {
     "duration": 0.016177,
     "end_time": "2024-05-22T15:17:22.193813",
     "exception": false,
     "start_time": "2024-05-22T15:17:22.177636",
     "status": "completed"
    },
    "tags": []
   },
   "outputs": [],
   "source": [
    "a1 = np.array([1,2,3,4,5,6,7,8,9])"
   ]
  },
  {
   "cell_type": "code",
   "execution_count": 3,
   "id": "8d377837",
   "metadata": {
    "execution": {
     "iopub.execute_input": "2024-05-22T15:17:22.211431Z",
     "iopub.status.busy": "2024-05-22T15:17:22.210660Z",
     "iopub.status.idle": "2024-05-22T15:17:22.217558Z",
     "shell.execute_reply": "2024-05-22T15:17:22.215882Z"
    },
    "papermill": {
     "duration": 0.018606,
     "end_time": "2024-05-22T15:17:22.220305",
     "exception": false,
     "start_time": "2024-05-22T15:17:22.201699",
     "status": "completed"
    },
    "tags": []
   },
   "outputs": [
    {
     "name": "stdout",
     "output_type": "stream",
     "text": [
      "1\n",
      "2\n",
      "3\n",
      "4\n",
      "5\n",
      "6\n",
      "7\n",
      "8\n",
      "9\n"
     ]
    }
   ],
   "source": [
    "for i in a1:\n",
    "    print(i)"
   ]
  },
  {
   "cell_type": "code",
   "execution_count": 4,
   "id": "b3c1f990",
   "metadata": {
    "execution": {
     "iopub.execute_input": "2024-05-22T15:17:22.238870Z",
     "iopub.status.busy": "2024-05-22T15:17:22.238153Z",
     "iopub.status.idle": "2024-05-22T15:17:22.248191Z",
     "shell.execute_reply": "2024-05-22T15:17:22.247158Z"
    },
    "papermill": {
     "duration": 0.021985,
     "end_time": "2024-05-22T15:17:22.250452",
     "exception": false,
     "start_time": "2024-05-22T15:17:22.228467",
     "status": "completed"
    },
    "tags": []
   },
   "outputs": [
    {
     "data": {
      "text/plain": [
       "array([[1, 2, 3],\n",
       "       [4, 5, 6],\n",
       "       [7, 8, 9]])"
      ]
     },
     "execution_count": 4,
     "metadata": {},
     "output_type": "execute_result"
    }
   ],
   "source": [
    "a2 = a1.reshape(3,3)\n",
    "a2"
   ]
  },
  {
   "cell_type": "code",
   "execution_count": 5,
   "id": "51dcb6a6",
   "metadata": {
    "execution": {
     "iopub.execute_input": "2024-05-22T15:17:22.269351Z",
     "iopub.status.busy": "2024-05-22T15:17:22.268440Z",
     "iopub.status.idle": "2024-05-22T15:17:22.273868Z",
     "shell.execute_reply": "2024-05-22T15:17:22.272850Z"
    },
    "papermill": {
     "duration": 0.017313,
     "end_time": "2024-05-22T15:17:22.276163",
     "exception": false,
     "start_time": "2024-05-22T15:17:22.258850",
     "status": "completed"
    },
    "tags": []
   },
   "outputs": [
    {
     "name": "stdout",
     "output_type": "stream",
     "text": [
      "[1 2 3]\n",
      "[4 5 6]\n",
      "[7 8 9]\n"
     ]
    }
   ],
   "source": [
    "for i in a2:\n",
    "    print(i)"
   ]
  },
  {
   "cell_type": "code",
   "execution_count": 6,
   "id": "16f1975e",
   "metadata": {
    "execution": {
     "iopub.execute_input": "2024-05-22T15:17:22.294151Z",
     "iopub.status.busy": "2024-05-22T15:17:22.293774Z",
     "iopub.status.idle": "2024-05-22T15:17:22.299113Z",
     "shell.execute_reply": "2024-05-22T15:17:22.297989Z"
    },
    "papermill": {
     "duration": 0.01821,
     "end_time": "2024-05-22T15:17:22.302571",
     "exception": false,
     "start_time": "2024-05-22T15:17:22.284361",
     "status": "completed"
    },
    "tags": []
   },
   "outputs": [
    {
     "name": "stdout",
     "output_type": "stream",
     "text": [
      "1\n",
      "2\n",
      "3\n",
      "4\n",
      "5\n",
      "6\n",
      "7\n",
      "8\n",
      "9\n"
     ]
    }
   ],
   "source": [
    "for i in np.nditer(a2):\n",
    "    print(i)"
   ]
  },
  {
   "cell_type": "markdown",
   "id": "3a14686c",
   "metadata": {
    "papermill": {
     "duration": 0.008068,
     "end_time": "2024-05-22T15:17:22.318860",
     "exception": false,
     "start_time": "2024-05-22T15:17:22.310792",
     "status": "completed"
    },
    "tags": []
   },
   "source": [
    "### Transpose"
   ]
  },
  {
   "cell_type": "code",
   "execution_count": 7,
   "id": "ff319451",
   "metadata": {
    "execution": {
     "iopub.execute_input": "2024-05-22T15:17:22.337426Z",
     "iopub.status.busy": "2024-05-22T15:17:22.336497Z",
     "iopub.status.idle": "2024-05-22T15:17:22.343026Z",
     "shell.execute_reply": "2024-05-22T15:17:22.342203Z"
    },
    "papermill": {
     "duration": 0.017889,
     "end_time": "2024-05-22T15:17:22.344973",
     "exception": false,
     "start_time": "2024-05-22T15:17:22.327084",
     "status": "completed"
    },
    "tags": []
   },
   "outputs": [
    {
     "data": {
      "text/plain": [
       "array([[1, 4, 7],\n",
       "       [2, 5, 8],\n",
       "       [3, 6, 9]])"
      ]
     },
     "execution_count": 7,
     "metadata": {},
     "output_type": "execute_result"
    }
   ],
   "source": [
    "#method 1\n",
    "a3 = np.transpose(a2)\n",
    "a3"
   ]
  },
  {
   "cell_type": "code",
   "execution_count": 8,
   "id": "47ec0987",
   "metadata": {
    "execution": {
     "iopub.execute_input": "2024-05-22T15:17:22.365473Z",
     "iopub.status.busy": "2024-05-22T15:17:22.364677Z",
     "iopub.status.idle": "2024-05-22T15:17:22.371135Z",
     "shell.execute_reply": "2024-05-22T15:17:22.370031Z"
    },
    "papermill": {
     "duration": 0.019204,
     "end_time": "2024-05-22T15:17:22.373890",
     "exception": false,
     "start_time": "2024-05-22T15:17:22.354686",
     "status": "completed"
    },
    "tags": []
   },
   "outputs": [
    {
     "data": {
      "text/plain": [
       "array([[1, 4, 7],\n",
       "       [2, 5, 8],\n",
       "       [3, 6, 9]])"
      ]
     },
     "execution_count": 8,
     "metadata": {},
     "output_type": "execute_result"
    }
   ],
   "source": [
    "#method 2\n",
    "a4 = a2.T\n",
    "a4"
   ]
  },
  {
   "cell_type": "markdown",
   "id": "18ecebe3",
   "metadata": {
    "papermill": {
     "duration": 0.008306,
     "end_time": "2024-05-22T15:17:22.390773",
     "exception": false,
     "start_time": "2024-05-22T15:17:22.382467",
     "status": "completed"
    },
    "tags": []
   },
   "source": [
    "### Ravel\n"
   ]
  },
  {
   "cell_type": "code",
   "execution_count": 9,
   "id": "cd10c0e5",
   "metadata": {
    "execution": {
     "iopub.execute_input": "2024-05-22T15:17:22.409841Z",
     "iopub.status.busy": "2024-05-22T15:17:22.409202Z",
     "iopub.status.idle": "2024-05-22T15:17:22.415766Z",
     "shell.execute_reply": "2024-05-22T15:17:22.414748Z"
    },
    "papermill": {
     "duration": 0.018966,
     "end_time": "2024-05-22T15:17:22.418391",
     "exception": false,
     "start_time": "2024-05-22T15:17:22.399425",
     "status": "completed"
    },
    "tags": []
   },
   "outputs": [
    {
     "data": {
      "text/plain": [
       "array([1, 4, 7, 2, 5, 8, 3, 6, 9])"
      ]
     },
     "execution_count": 9,
     "metadata": {},
     "output_type": "execute_result"
    }
   ],
   "source": [
    "a4.ravel()"
   ]
  },
  {
   "cell_type": "markdown",
   "id": "23898dc7",
   "metadata": {
    "papermill": {
     "duration": 0.008325,
     "end_time": "2024-05-22T15:17:22.435409",
     "exception": false,
     "start_time": "2024-05-22T15:17:22.427084",
     "status": "completed"
    },
    "tags": []
   },
   "source": [
    "### Stacking\n",
    "- Horizhontal Stacking : np.hstack((a1,a2))\n",
    "- Vertical Stacking    : np.vstack((a1,a2))"
   ]
  },
  {
   "cell_type": "code",
   "execution_count": 10,
   "id": "3894231e",
   "metadata": {
    "execution": {
     "iopub.execute_input": "2024-05-22T15:17:22.454810Z",
     "iopub.status.busy": "2024-05-22T15:17:22.454191Z",
     "iopub.status.idle": "2024-05-22T15:17:22.458965Z",
     "shell.execute_reply": "2024-05-22T15:17:22.458133Z"
    },
    "papermill": {
     "duration": 0.01671,
     "end_time": "2024-05-22T15:17:22.460985",
     "exception": false,
     "start_time": "2024-05-22T15:17:22.444275",
     "status": "completed"
    },
    "tags": []
   },
   "outputs": [],
   "source": [
    "s1 = np.arange(1,10).reshape(3,3)\n",
    "s2 = np.arange(31,40).reshape(3,3)"
   ]
  },
  {
   "cell_type": "code",
   "execution_count": 11,
   "id": "ce97f63a",
   "metadata": {
    "execution": {
     "iopub.execute_input": "2024-05-22T15:17:22.479852Z",
     "iopub.status.busy": "2024-05-22T15:17:22.479267Z",
     "iopub.status.idle": "2024-05-22T15:17:22.485973Z",
     "shell.execute_reply": "2024-05-22T15:17:22.484993Z"
    },
    "papermill": {
     "duration": 0.018849,
     "end_time": "2024-05-22T15:17:22.488323",
     "exception": false,
     "start_time": "2024-05-22T15:17:22.469474",
     "status": "completed"
    },
    "tags": []
   },
   "outputs": [
    {
     "data": {
      "text/plain": [
       "array([[ 1,  2,  3, 31, 32, 33],\n",
       "       [ 4,  5,  6, 34, 35, 36],\n",
       "       [ 7,  8,  9, 37, 38, 39]])"
      ]
     },
     "execution_count": 11,
     "metadata": {},
     "output_type": "execute_result"
    }
   ],
   "source": [
    "np.hstack((s1,s2))"
   ]
  },
  {
   "cell_type": "code",
   "execution_count": 12,
   "id": "41bee91a",
   "metadata": {
    "execution": {
     "iopub.execute_input": "2024-05-22T15:17:22.507805Z",
     "iopub.status.busy": "2024-05-22T15:17:22.507379Z",
     "iopub.status.idle": "2024-05-22T15:17:22.514117Z",
     "shell.execute_reply": "2024-05-22T15:17:22.513165Z"
    },
    "papermill": {
     "duration": 0.018926,
     "end_time": "2024-05-22T15:17:22.516200",
     "exception": false,
     "start_time": "2024-05-22T15:17:22.497274",
     "status": "completed"
    },
    "tags": []
   },
   "outputs": [
    {
     "data": {
      "text/plain": [
       "array([[ 1,  2,  3],\n",
       "       [ 4,  5,  6],\n",
       "       [ 7,  8,  9],\n",
       "       [31, 32, 33],\n",
       "       [34, 35, 36],\n",
       "       [37, 38, 39]])"
      ]
     },
     "execution_count": 12,
     "metadata": {},
     "output_type": "execute_result"
    }
   ],
   "source": [
    "np.vstack((s1,s2))"
   ]
  },
  {
   "cell_type": "code",
   "execution_count": 13,
   "id": "e14e81f3",
   "metadata": {
    "execution": {
     "iopub.execute_input": "2024-05-22T15:17:22.536514Z",
     "iopub.status.busy": "2024-05-22T15:17:22.535435Z",
     "iopub.status.idle": "2024-05-22T15:17:22.540325Z",
     "shell.execute_reply": "2024-05-22T15:17:22.539555Z"
    },
    "papermill": {
     "duration": 0.017209,
     "end_time": "2024-05-22T15:17:22.542410",
     "exception": false,
     "start_time": "2024-05-22T15:17:22.525201",
     "status": "completed"
    },
    "tags": []
   },
   "outputs": [],
   "source": [
    "s3 = np.arange(21,27).reshape(3,2)"
   ]
  },
  {
   "cell_type": "code",
   "execution_count": 14,
   "id": "5bfc7fd5",
   "metadata": {
    "execution": {
     "iopub.execute_input": "2024-05-22T15:17:22.562254Z",
     "iopub.status.busy": "2024-05-22T15:17:22.561847Z",
     "iopub.status.idle": "2024-05-22T15:17:22.568423Z",
     "shell.execute_reply": "2024-05-22T15:17:22.567674Z"
    },
    "papermill": {
     "duration": 0.019248,
     "end_time": "2024-05-22T15:17:22.570696",
     "exception": false,
     "start_time": "2024-05-22T15:17:22.551448",
     "status": "completed"
    },
    "tags": []
   },
   "outputs": [
    {
     "data": {
      "text/plain": [
       "array([[ 1,  2,  3, 21, 22],\n",
       "       [ 4,  5,  6, 23, 24],\n",
       "       [ 7,  8,  9, 25, 26]])"
      ]
     },
     "execution_count": 14,
     "metadata": {},
     "output_type": "execute_result"
    }
   ],
   "source": [
    "np.hstack((s1,s3))"
   ]
  },
  {
   "cell_type": "code",
   "execution_count": 15,
   "id": "61fe06f3",
   "metadata": {
    "execution": {
     "iopub.execute_input": "2024-05-22T15:17:22.590749Z",
     "iopub.status.busy": "2024-05-22T15:17:22.589933Z",
     "iopub.status.idle": "2024-05-22T15:17:22.594867Z",
     "shell.execute_reply": "2024-05-22T15:17:22.593850Z"
    },
    "papermill": {
     "duration": 0.017307,
     "end_time": "2024-05-22T15:17:22.597066",
     "exception": false,
     "start_time": "2024-05-22T15:17:22.579759",
     "status": "completed"
    },
    "tags": []
   },
   "outputs": [],
   "source": [
    "# np.vstack((s1,s3))\n",
    "# error\n",
    "#sizes should match for stacking"
   ]
  },
  {
   "cell_type": "markdown",
   "id": "098d3ba8",
   "metadata": {
    "papermill": {
     "duration": 0.008721,
     "end_time": "2024-05-22T15:17:22.614977",
     "exception": false,
     "start_time": "2024-05-22T15:17:22.606256",
     "status": "completed"
    },
    "tags": []
   },
   "source": [
    "### Splitting \n",
    "- Horizhnotal SPlitting : hsplit(a1, n)\n",
    "- Vertical Splitting    : vsplit(a1, n)\n",
    "\n",
    "n = number of slpits"
   ]
  },
  {
   "cell_type": "code",
   "execution_count": 16,
   "id": "9ff8f24d",
   "metadata": {
    "execution": {
     "iopub.execute_input": "2024-05-22T15:17:22.635147Z",
     "iopub.status.busy": "2024-05-22T15:17:22.634746Z",
     "iopub.status.idle": "2024-05-22T15:17:22.644138Z",
     "shell.execute_reply": "2024-05-22T15:17:22.642985Z"
    },
    "papermill": {
     "duration": 0.02246,
     "end_time": "2024-05-22T15:17:22.646457",
     "exception": false,
     "start_time": "2024-05-22T15:17:22.623997",
     "status": "completed"
    },
    "tags": []
   },
   "outputs": [
    {
     "data": {
      "text/plain": [
       "[array([[1],\n",
       "        [4],\n",
       "        [7]]),\n",
       " array([[2],\n",
       "        [5],\n",
       "        [8]]),\n",
       " array([[3],\n",
       "        [6],\n",
       "        [9]])]"
      ]
     },
     "execution_count": 16,
     "metadata": {},
     "output_type": "execute_result"
    }
   ],
   "source": [
    "np.hsplit(s1 , 3)"
   ]
  },
  {
   "cell_type": "code",
   "execution_count": 17,
   "id": "edf31be2",
   "metadata": {
    "execution": {
     "iopub.execute_input": "2024-05-22T15:17:22.667158Z",
     "iopub.status.busy": "2024-05-22T15:17:22.666437Z",
     "iopub.status.idle": "2024-05-22T15:17:22.673486Z",
     "shell.execute_reply": "2024-05-22T15:17:22.672408Z"
    },
    "papermill": {
     "duration": 0.020093,
     "end_time": "2024-05-22T15:17:22.676069",
     "exception": false,
     "start_time": "2024-05-22T15:17:22.655976",
     "status": "completed"
    },
    "tags": []
   },
   "outputs": [
    {
     "data": {
      "text/plain": [
       "array([[ 0,  1,  2,  3],\n",
       "       [ 4,  5,  6,  7],\n",
       "       [ 8,  9, 10, 11]])"
      ]
     },
     "execution_count": 17,
     "metadata": {},
     "output_type": "execute_result"
    }
   ],
   "source": [
    "s4 = np.arange(0,12).reshape(3,4)\n",
    "s4"
   ]
  },
  {
   "cell_type": "code",
   "execution_count": 18,
   "id": "ab131641",
   "metadata": {
    "execution": {
     "iopub.execute_input": "2024-05-22T15:17:22.696731Z",
     "iopub.status.busy": "2024-05-22T15:17:22.696274Z",
     "iopub.status.idle": "2024-05-22T15:17:22.703861Z",
     "shell.execute_reply": "2024-05-22T15:17:22.702800Z"
    },
    "papermill": {
     "duration": 0.020648,
     "end_time": "2024-05-22T15:17:22.706097",
     "exception": false,
     "start_time": "2024-05-22T15:17:22.685449",
     "status": "completed"
    },
    "tags": []
   },
   "outputs": [
    {
     "data": {
      "text/plain": [
       "[array([[0, 1],\n",
       "        [4, 5],\n",
       "        [8, 9]]),\n",
       " array([[ 2,  3],\n",
       "        [ 6,  7],\n",
       "        [10, 11]])]"
      ]
     },
     "execution_count": 18,
     "metadata": {},
     "output_type": "execute_result"
    }
   ],
   "source": [
    "np.hsplit(s4,2)"
   ]
  },
  {
   "cell_type": "code",
   "execution_count": 19,
   "id": "14781922",
   "metadata": {
    "execution": {
     "iopub.execute_input": "2024-05-22T15:17:22.727243Z",
     "iopub.status.busy": "2024-05-22T15:17:22.726846Z",
     "iopub.status.idle": "2024-05-22T15:17:22.734296Z",
     "shell.execute_reply": "2024-05-22T15:17:22.733193Z"
    },
    "papermill": {
     "duration": 0.020949,
     "end_time": "2024-05-22T15:17:22.736912",
     "exception": false,
     "start_time": "2024-05-22T15:17:22.715963",
     "status": "completed"
    },
    "tags": []
   },
   "outputs": [
    {
     "data": {
      "text/plain": [
       "[array([[0, 1, 2, 3]]), array([[4, 5, 6, 7]]), array([[ 8,  9, 10, 11]])]"
      ]
     },
     "execution_count": 19,
     "metadata": {},
     "output_type": "execute_result"
    }
   ],
   "source": [
    "np.vsplit(s4 , 3)"
   ]
  }
 ],
 "metadata": {
  "kaggle": {
   "accelerator": "none",
   "dataSources": [],
   "dockerImageVersionId": 30698,
   "isGpuEnabled": false,
   "isInternetEnabled": true,
   "language": "python",
   "sourceType": "notebook"
  },
  "kernelspec": {
   "display_name": "Python 3",
   "language": "python",
   "name": "python3"
  },
  "language_info": {
   "codemirror_mode": {
    "name": "ipython",
    "version": 3
   },
   "file_extension": ".py",
   "mimetype": "text/x-python",
   "name": "python",
   "nbconvert_exporter": "python",
   "pygments_lexer": "ipython3",
   "version": "3.10.13"
  },
  "papermill": {
   "default_parameters": {},
   "duration": 4.129787,
   "end_time": "2024-05-22T15:17:23.167739",
   "environment_variables": {},
   "exception": null,
   "input_path": "__notebook__.ipynb",
   "output_path": "__notebook__.ipynb",
   "parameters": {},
   "start_time": "2024-05-22T15:17:19.037952",
   "version": "2.5.0"
  }
 },
 "nbformat": 4,
 "nbformat_minor": 5
}
